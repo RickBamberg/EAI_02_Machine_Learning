{
 "cells": [
  {
   "cell_type": "code",
   "execution_count": null,
   "id": "8ceef734-9374-4e89-a028-cf41f1375cfe",
   "metadata": {
    "jp-MarkdownHeadingCollapsed": true
   },
   "outputs": [],
   "source": [
    "# Análise Exploratória de Dados (EDA)\n",
    "\n",
    "## 1. Importação de Bibliotecas\n",
    "## 2. Criação de um Dataset CSV Simulado\n",
    "## 3. Informações Básicas do Dataset\n",
    "## 4. Estatísticas Descritivas\n",
    "## 5. Valores Nulos\n",
    "## 6. Tipos de Dados e Conversões\n",
    "## 7. Valores Únicos por Coluna Categórica\n",
    "## 8. Preenchimento de Dados Faltantes\n",
    "## 9. Codificação de Campos Categóricos\n",
    "## 10. Visualização Final\n",
    "## 8.10 Atualização de Salário por Nome"
   ]
  },
  {
   "cell_type": "markdown",
   "id": "edd25f53-4e81-415a-ae9c-ef0ccff4c0c6",
   "metadata": {},
   "source": [
    "## 1. Importação de Bibliotecas"
   ]
  },
  {
   "cell_type": "code",
   "execution_count": 24,
   "id": "9395f081-846f-4528-8c59-8e598c3e416c",
   "metadata": {},
   "outputs": [],
   "source": [
    "import pandas as pd\n",
    "import numpy as np\n",
    "from io import StringIO"
   ]
  },
  {
   "cell_type": "markdown",
   "id": "7b6c86d5-b8cb-40a7-9b57-5a2bde760575",
   "metadata": {},
   "source": [
    "## 2. Criação de um Dataset CSV Simulado"
   ]
  },
  {
   "cell_type": "code",
   "execution_count": 25,
   "id": "a45aeb87-b941-401b-b34a-7b932b309c39",
   "metadata": {},
   "outputs": [
    {
     "data": {
      "text/html": [
       "<div>\n",
       "<style scoped>\n",
       "    .dataframe tbody tr th:only-of-type {\n",
       "        vertical-align: middle;\n",
       "    }\n",
       "\n",
       "    .dataframe tbody tr th {\n",
       "        vertical-align: top;\n",
       "    }\n",
       "\n",
       "    .dataframe thead th {\n",
       "        text-align: right;\n",
       "    }\n",
       "</style>\n",
       "<table border=\"1\" class=\"dataframe\">\n",
       "  <thead>\n",
       "    <tr style=\"text-align: right;\">\n",
       "      <th></th>\n",
       "      <th>ID</th>\n",
       "      <th>Nome</th>\n",
       "      <th>Idade</th>\n",
       "      <th>Salario</th>\n",
       "      <th>Departamento</th>\n",
       "    </tr>\n",
       "  </thead>\n",
       "  <tbody>\n",
       "    <tr>\n",
       "      <th>0</th>\n",
       "      <td>1</td>\n",
       "      <td>Ana</td>\n",
       "      <td>28.0</td>\n",
       "      <td>5200.0</td>\n",
       "      <td>Financeiro</td>\n",
       "    </tr>\n",
       "    <tr>\n",
       "      <th>1</th>\n",
       "      <td>2</td>\n",
       "      <td>Bruno</td>\n",
       "      <td>35.0</td>\n",
       "      <td>NaN</td>\n",
       "      <td>TI</td>\n",
       "    </tr>\n",
       "    <tr>\n",
       "      <th>2</th>\n",
       "      <td>3</td>\n",
       "      <td>Carlos</td>\n",
       "      <td>NaN</td>\n",
       "      <td>4300.0</td>\n",
       "      <td>Marketing</td>\n",
       "    </tr>\n",
       "    <tr>\n",
       "      <th>3</th>\n",
       "      <td>4</td>\n",
       "      <td>Diana</td>\n",
       "      <td>22.0</td>\n",
       "      <td>3900.0</td>\n",
       "      <td>TI</td>\n",
       "    </tr>\n",
       "    <tr>\n",
       "      <th>4</th>\n",
       "      <td>5</td>\n",
       "      <td>Eduardo</td>\n",
       "      <td>45.0</td>\n",
       "      <td>7800.0</td>\n",
       "      <td>Financeiro</td>\n",
       "    </tr>\n",
       "  </tbody>\n",
       "</table>\n",
       "</div>"
      ],
      "text/plain": [
       "   ID     Nome  Idade  Salario Departamento\n",
       "0   1      Ana   28.0   5200.0   Financeiro\n",
       "1   2    Bruno   35.0      NaN           TI\n",
       "2   3   Carlos    NaN   4300.0    Marketing\n",
       "3   4    Diana   22.0   3900.0           TI\n",
       "4   5  Eduardo   45.0   7800.0   Financeiro"
      ]
     },
     "execution_count": 25,
     "metadata": {},
     "output_type": "execute_result"
    }
   ],
   "source": [
    "csv_dados = StringIO(\"\"\"\n",
    "ID,Nome,Idade,Salario,Departamento\n",
    "1,Ana,28,5200,Financeiro\n",
    "2,Bruno,35,NaN,TI\n",
    "3,Carlos,,4300,Marketing\n",
    "4,Diana,22,3900,TI\n",
    "5,Eduardo,45,7800,Financeiro\n",
    "6,Fabiana,31,NaN,Marketing\n",
    "7,Guilherme,29,4700,TI\n",
    "8,Helena,NaN,NaN,Marketing\n",
    "\"\"\")\n",
    "\n",
    "# Leitura do CSV diretamente do objeto StringIO\n",
    "df = pd.read_csv(csv_dados)\n",
    "df.head()"
   ]
  },
  {
   "cell_type": "markdown",
   "id": "16e93f00-75b2-462c-8db2-aabe4c91b34a",
   "metadata": {},
   "source": [
    "## 3. Informações Básicas do Dataset"
   ]
  },
  {
   "cell_type": "code",
   "execution_count": 26,
   "id": "6b22fe10-6030-409e-aa77-5c39da1e7702",
   "metadata": {},
   "outputs": [
    {
     "name": "stdout",
     "output_type": "stream",
     "text": [
      "<class 'pandas.core.frame.DataFrame'>\n",
      "RangeIndex: 8 entries, 0 to 7\n",
      "Data columns (total 5 columns):\n",
      " #   Column        Non-Null Count  Dtype  \n",
      "---  ------        --------------  -----  \n",
      " 0   ID            8 non-null      int64  \n",
      " 1   Nome          8 non-null      object \n",
      " 2   Idade         6 non-null      float64\n",
      " 3   Salario       5 non-null      float64\n",
      " 4   Departamento  8 non-null      object \n",
      "dtypes: float64(2), int64(1), object(2)\n",
      "memory usage: 452.0+ bytes\n"
     ]
    }
   ],
   "source": [
    "df.info()"
   ]
  },
  {
   "cell_type": "markdown",
   "id": "13fac891-7883-4563-819e-b7dff3a7ca25",
   "metadata": {},
   "source": [
    "> Verificamos colunas, tipos de dados e contagem de não-nulos."
   ]
  },
  {
   "cell_type": "markdown",
   "id": "6f4f4944-2572-4768-8a93-99fe57225b2a",
   "metadata": {},
   "source": [
    "## 4. Estatísticas Descritivas"
   ]
  },
  {
   "cell_type": "code",
   "execution_count": 27,
   "id": "7b8c4cda-570f-4d06-908b-c6b08c3253f7",
   "metadata": {},
   "outputs": [
    {
     "data": {
      "text/html": [
       "<div>\n",
       "<style scoped>\n",
       "    .dataframe tbody tr th:only-of-type {\n",
       "        vertical-align: middle;\n",
       "    }\n",
       "\n",
       "    .dataframe tbody tr th {\n",
       "        vertical-align: top;\n",
       "    }\n",
       "\n",
       "    .dataframe thead th {\n",
       "        text-align: right;\n",
       "    }\n",
       "</style>\n",
       "<table border=\"1\" class=\"dataframe\">\n",
       "  <thead>\n",
       "    <tr style=\"text-align: right;\">\n",
       "      <th></th>\n",
       "      <th>ID</th>\n",
       "      <th>Idade</th>\n",
       "      <th>Salario</th>\n",
       "    </tr>\n",
       "  </thead>\n",
       "  <tbody>\n",
       "    <tr>\n",
       "      <th>count</th>\n",
       "      <td>8.00000</td>\n",
       "      <td>6.000000</td>\n",
       "      <td>5.00000</td>\n",
       "    </tr>\n",
       "    <tr>\n",
       "      <th>mean</th>\n",
       "      <td>4.50000</td>\n",
       "      <td>31.666667</td>\n",
       "      <td>5180.00000</td>\n",
       "    </tr>\n",
       "    <tr>\n",
       "      <th>std</th>\n",
       "      <td>2.44949</td>\n",
       "      <td>7.788881</td>\n",
       "      <td>1541.75225</td>\n",
       "    </tr>\n",
       "    <tr>\n",
       "      <th>min</th>\n",
       "      <td>1.00000</td>\n",
       "      <td>22.000000</td>\n",
       "      <td>3900.00000</td>\n",
       "    </tr>\n",
       "    <tr>\n",
       "      <th>25%</th>\n",
       "      <td>2.75000</td>\n",
       "      <td>28.250000</td>\n",
       "      <td>4300.00000</td>\n",
       "    </tr>\n",
       "    <tr>\n",
       "      <th>50%</th>\n",
       "      <td>4.50000</td>\n",
       "      <td>30.000000</td>\n",
       "      <td>4700.00000</td>\n",
       "    </tr>\n",
       "    <tr>\n",
       "      <th>75%</th>\n",
       "      <td>6.25000</td>\n",
       "      <td>34.000000</td>\n",
       "      <td>5200.00000</td>\n",
       "    </tr>\n",
       "    <tr>\n",
       "      <th>max</th>\n",
       "      <td>8.00000</td>\n",
       "      <td>45.000000</td>\n",
       "      <td>7800.00000</td>\n",
       "    </tr>\n",
       "  </tbody>\n",
       "</table>\n",
       "</div>"
      ],
      "text/plain": [
       "            ID      Idade     Salario\n",
       "count  8.00000   6.000000     5.00000\n",
       "mean   4.50000  31.666667  5180.00000\n",
       "std    2.44949   7.788881  1541.75225\n",
       "min    1.00000  22.000000  3900.00000\n",
       "25%    2.75000  28.250000  4300.00000\n",
       "50%    4.50000  30.000000  4700.00000\n",
       "75%    6.25000  34.000000  5200.00000\n",
       "max    8.00000  45.000000  7800.00000"
      ]
     },
     "execution_count": 27,
     "metadata": {},
     "output_type": "execute_result"
    }
   ],
   "source": [
    "df.describe()"
   ]
  },
  {
   "cell_type": "markdown",
   "id": "8cb01ea4-d868-45a2-babf-5b388a45c31b",
   "metadata": {},
   "source": [
    "> Apenas colunas numéricas aparecem aqui. Vamos analisar separadamente os campos categóricos."
   ]
  },
  {
   "cell_type": "markdown",
   "id": "b3661f5e-cae4-45cd-8925-fffc183ad1c8",
   "metadata": {},
   "source": [
    "## 5. Valores Nulos"
   ]
  },
  {
   "cell_type": "code",
   "execution_count": 28,
   "id": "c4c8cfd4-ef9a-4d88-bff2-10cc14c13713",
   "metadata": {},
   "outputs": [
    {
     "data": {
      "text/plain": [
       "ID              0\n",
       "Nome            0\n",
       "Idade           2\n",
       "Salario         3\n",
       "Departamento    0\n",
       "dtype: int64"
      ]
     },
     "execution_count": 28,
     "metadata": {},
     "output_type": "execute_result"
    }
   ],
   "source": [
    "df.isnull().sum()"
   ]
  },
  {
   "cell_type": "markdown",
   "id": "81a808b0-529d-44e3-9c43-9652fd9deebb",
   "metadata": {},
   "source": [
    "> Mostra quantos valores ausentes existem em cada coluna."
   ]
  },
  {
   "cell_type": "markdown",
   "id": "41cd74ff-fef7-4d6d-8a55-f5b12fdea884",
   "metadata": {},
   "source": [
    "## 6. Tipos de Dados e Conversões"
   ]
  },
  {
   "cell_type": "code",
   "execution_count": 29,
   "id": "af88448b-e262-4bb8-bf44-a2708cab80a1",
   "metadata": {},
   "outputs": [
    {
     "name": "stdout",
     "output_type": "stream",
     "text": [
      "Tipo do ID Anterior\n",
      "int64\n",
      "Tipo do ID Atualizado\n",
      "object\n"
     ]
    }
   ],
   "source": [
    "# A coluna ID pode ser tratada como string\n",
    "# A coluna \"Idade\" pode ser convertida para int se quisermos\n",
    "\n",
    "# Exemplo de conversão:\n",
    "print(\"Tipo do ID Anterior\")\n",
    "print(df[\"ID\"].dtype)\n",
    "\n",
    "df[\"ID\"] = df[\"ID\"].astype(str)\n",
    "\n",
    "print(\"Tipo do ID Atualizado\")\n",
    "print(df[\"ID\"].dtype)"
   ]
  },
  {
   "cell_type": "markdown",
   "id": "effde920-d9bc-4fee-8bcd-2797522986a9",
   "metadata": {},
   "source": [
    "## 7. Valores Únicos por Coluna Categórica"
   ]
  },
  {
   "cell_type": "code",
   "execution_count": 30,
   "id": "7e392d6e-cdd5-4661-858f-a76d699e96f2",
   "metadata": {},
   "outputs": [
    {
     "name": "stdout",
     "output_type": "stream",
     "text": [
      "Valores únicos em Departamento: ['Financeiro' 'TI' 'Marketing']\n",
      "Valores únicos em Nome: 8\n"
     ]
    }
   ],
   "source": [
    "print(\"Valores únicos em Departamento:\", df[\"Departamento\"].unique())\n",
    "print(\"Valores únicos em Nome:\", df[\"Nome\"].nunique())"
   ]
  },
  {
   "cell_type": "markdown",
   "id": "182d6ab4-b269-443b-8f9e-17b7cbc415ea",
   "metadata": {},
   "source": [
    "## 8. Preenchimento de Dados Faltantes"
   ]
  },
  {
   "cell_type": "code",
   "execution_count": 31,
   "id": "b19ea103-ced9-4964-9d7c-572a4cc51880",
   "metadata": {},
   "outputs": [],
   "source": [
    "# Podemos preencher com média, mediana ou outro valor de referência\n",
    "\n",
    "# Exemplo: Preenchendo salário com a mediana\n",
    "salario_mediana = df[\"Salario\"].median()\n",
    "#df[\"Salario\"].fillna(salario_mediana, inplace=True)\n",
    "df[\"Salario\"] = df[\"Salario\"].fillna(salario_mediana)\n",
    "\n",
    "# Idade com a média\n",
    "idade_media = df[\"Idade\"].mean()\n",
    "#df[\"Idade\"].fillna(round(idade_media), inplace=True)\n",
    "df[\"Idade\"] = df[\"Idade\"].fillna(round(idade_media))"
   ]
  },
  {
   "cell_type": "markdown",
   "id": "f757e79d-a218-458d-9c33-46d77203e1dd",
   "metadata": {},
   "source": [
    "## 9. Codificação de Campos Categóricos"
   ]
  },
  {
   "cell_type": "code",
   "execution_count": 32,
   "id": "29c3cd1a-18ab-41fa-a674-5a106f7316f2",
   "metadata": {},
   "outputs": [
    {
     "data": {
      "text/html": [
       "<div>\n",
       "<style scoped>\n",
       "    .dataframe tbody tr th:only-of-type {\n",
       "        vertical-align: middle;\n",
       "    }\n",
       "\n",
       "    .dataframe tbody tr th {\n",
       "        vertical-align: top;\n",
       "    }\n",
       "\n",
       "    .dataframe thead th {\n",
       "        text-align: right;\n",
       "    }\n",
       "</style>\n",
       "<table border=\"1\" class=\"dataframe\">\n",
       "  <thead>\n",
       "    <tr style=\"text-align: right;\">\n",
       "      <th></th>\n",
       "      <th>ID</th>\n",
       "      <th>Nome</th>\n",
       "      <th>Idade</th>\n",
       "      <th>Salario</th>\n",
       "      <th>Departamento_Marketing</th>\n",
       "      <th>Departamento_TI</th>\n",
       "    </tr>\n",
       "  </thead>\n",
       "  <tbody>\n",
       "    <tr>\n",
       "      <th>0</th>\n",
       "      <td>1</td>\n",
       "      <td>Ana</td>\n",
       "      <td>28.0</td>\n",
       "      <td>5200.0</td>\n",
       "      <td>False</td>\n",
       "      <td>False</td>\n",
       "    </tr>\n",
       "    <tr>\n",
       "      <th>1</th>\n",
       "      <td>2</td>\n",
       "      <td>Bruno</td>\n",
       "      <td>35.0</td>\n",
       "      <td>4700.0</td>\n",
       "      <td>False</td>\n",
       "      <td>True</td>\n",
       "    </tr>\n",
       "    <tr>\n",
       "      <th>2</th>\n",
       "      <td>3</td>\n",
       "      <td>Carlos</td>\n",
       "      <td>32.0</td>\n",
       "      <td>4300.0</td>\n",
       "      <td>True</td>\n",
       "      <td>False</td>\n",
       "    </tr>\n",
       "    <tr>\n",
       "      <th>3</th>\n",
       "      <td>4</td>\n",
       "      <td>Diana</td>\n",
       "      <td>22.0</td>\n",
       "      <td>3900.0</td>\n",
       "      <td>False</td>\n",
       "      <td>True</td>\n",
       "    </tr>\n",
       "    <tr>\n",
       "      <th>4</th>\n",
       "      <td>5</td>\n",
       "      <td>Eduardo</td>\n",
       "      <td>45.0</td>\n",
       "      <td>7800.0</td>\n",
       "      <td>False</td>\n",
       "      <td>False</td>\n",
       "    </tr>\n",
       "  </tbody>\n",
       "</table>\n",
       "</div>"
      ],
      "text/plain": [
       "  ID     Nome  Idade  Salario  Departamento_Marketing  Departamento_TI\n",
       "0  1      Ana   28.0   5200.0                   False            False\n",
       "1  2    Bruno   35.0   4700.0                   False             True\n",
       "2  3   Carlos   32.0   4300.0                    True            False\n",
       "3  4    Diana   22.0   3900.0                   False             True\n",
       "4  5  Eduardo   45.0   7800.0                   False            False"
      ]
     },
     "execution_count": 32,
     "metadata": {},
     "output_type": "execute_result"
    }
   ],
   "source": [
    "# Uma codificação simples com get_dummies\n",
    "\n",
    "df_encoded = pd.get_dummies(df, columns=[\"Departamento\"], drop_first=True)\n",
    "df_encoded.head()"
   ]
  },
  {
   "cell_type": "markdown",
   "id": "d8131cc2-2ebc-44ac-8b03-ea7c2830e59d",
   "metadata": {},
   "source": [
    "## 10. Busca por Nome (Consulta por Campo `object`)  \n",
    "Essa célula permite localizar registros com base em nomes. O método `str.contains` permite buscas parciais e insensíveis a maiúsculas/minúsculas."
   ]
  },
  {
   "cell_type": "code",
   "execution_count": 37,
   "id": "f8ee7176-73a2-414d-a0ef-4d99eee84ef6",
   "metadata": {},
   "outputs": [
    {
     "name": "stdout",
     "output_type": "stream",
     "text": [
      "1 registro(s) encontrado(s):\n"
     ]
    },
    {
     "data": {
      "text/html": [
       "<div>\n",
       "<style scoped>\n",
       "    .dataframe tbody tr th:only-of-type {\n",
       "        vertical-align: middle;\n",
       "    }\n",
       "\n",
       "    .dataframe tbody tr th {\n",
       "        vertical-align: top;\n",
       "    }\n",
       "\n",
       "    .dataframe thead th {\n",
       "        text-align: right;\n",
       "    }\n",
       "</style>\n",
       "<table border=\"1\" class=\"dataframe\">\n",
       "  <thead>\n",
       "    <tr style=\"text-align: right;\">\n",
       "      <th></th>\n",
       "      <th>ID</th>\n",
       "      <th>Nome</th>\n",
       "      <th>Idade</th>\n",
       "      <th>Salario</th>\n",
       "      <th>Departamento_Marketing</th>\n",
       "      <th>Departamento_TI</th>\n",
       "    </tr>\n",
       "  </thead>\n",
       "  <tbody>\n",
       "    <tr>\n",
       "      <th>2</th>\n",
       "      <td>3</td>\n",
       "      <td>Carlos</td>\n",
       "      <td>32.0</td>\n",
       "      <td>4300.0</td>\n",
       "      <td>True</td>\n",
       "      <td>False</td>\n",
       "    </tr>\n",
       "  </tbody>\n",
       "</table>\n",
       "</div>"
      ],
      "text/plain": [
       "  ID    Nome  Idade  Salario  Departamento_Marketing  Departamento_TI\n",
       "2  3  Carlos   32.0   4300.0                    True            False"
      ]
     },
     "metadata": {},
     "output_type": "display_data"
    }
   ],
   "source": [
    "# Exemplo de busca por nome (insensível a maiúsculas/minúsculas)\n",
    "nome_busca = \"Carlos\"\n",
    "resultado = df_encoded[df_encoded[\"Nome\"].str.contains(nome_busca, case=False, na=False)]\n",
    "print(f\"{len(resultado)} registro(s) encontrado(s):\")\n",
    "display(resultado)"
   ]
  },
  {
   "cell_type": "markdown",
   "id": "34864223-a5cf-4527-a25f-1afa91d5fc24",
   "metadata": {},
   "source": [
    "## 11. Atualização de Salário por Nome  \n",
    "Permite modificar o salário de pessoas específicas com base no nome. Após localizar os índices das linhas correspondentes, a atualização é feita diretamente via `df.loc`."
   ]
  },
  {
   "cell_type": "code",
   "execution_count": 38,
   "id": "af8734bb-0dff-45fd-96b8-940fe4ba6739",
   "metadata": {},
   "outputs": [
    {
     "name": "stdout",
     "output_type": "stream",
     "text": [
      "Salário atualizado para os registros com nome 'Carlos':\n"
     ]
    },
    {
     "data": {
      "text/html": [
       "<div>\n",
       "<style scoped>\n",
       "    .dataframe tbody tr th:only-of-type {\n",
       "        vertical-align: middle;\n",
       "    }\n",
       "\n",
       "    .dataframe tbody tr th {\n",
       "        vertical-align: top;\n",
       "    }\n",
       "\n",
       "    .dataframe thead th {\n",
       "        text-align: right;\n",
       "    }\n",
       "</style>\n",
       "<table border=\"1\" class=\"dataframe\">\n",
       "  <thead>\n",
       "    <tr style=\"text-align: right;\">\n",
       "      <th></th>\n",
       "      <th>ID</th>\n",
       "      <th>Nome</th>\n",
       "      <th>Idade</th>\n",
       "      <th>Salario</th>\n",
       "      <th>Departamento_Marketing</th>\n",
       "      <th>Departamento_TI</th>\n",
       "    </tr>\n",
       "  </thead>\n",
       "  <tbody>\n",
       "    <tr>\n",
       "      <th>2</th>\n",
       "      <td>3</td>\n",
       "      <td>Carlos</td>\n",
       "      <td>32.0</td>\n",
       "      <td>7500.0</td>\n",
       "      <td>True</td>\n",
       "      <td>False</td>\n",
       "    </tr>\n",
       "  </tbody>\n",
       "</table>\n",
       "</div>"
      ],
      "text/plain": [
       "  ID    Nome  Idade  Salario  Departamento_Marketing  Departamento_TI\n",
       "2  3  Carlos   32.0   7500.0                    True            False"
      ]
     },
     "metadata": {},
     "output_type": "display_data"
    }
   ],
   "source": [
    "# Exemplo: Atualizar salário de um nome específico\n",
    "nome_alvo = \"Carlos\"\n",
    "novo_salario = 7500\n",
    "\n",
    "# Localizando os índices dos registros a atualizar\n",
    "indices = df_encoded[df_encoded[\"Nome\"] == nome_alvo].index\n",
    "\n",
    "# Atualizando\n",
    "df_encoded.loc[indices, \"Salario\"] = novo_salario\n",
    "\n",
    "# Exibindo resultado\n",
    "print(f\"Salário atualizado para os registros com nome '{nome_alvo}':\")\n",
    "display(df_encoded.loc[indices])"
   ]
  },
  {
   "cell_type": "markdown",
   "id": "ca689291-9fac-4c37-97b6-320cfa29c840",
   "metadata": {},
   "source": [
    "## 12. Visualização Final"
   ]
  },
  {
   "cell_type": "code",
   "execution_count": 39,
   "id": "bea0219f-5d87-4a95-84ac-23d4ac3ccdcb",
   "metadata": {},
   "outputs": [
    {
     "name": "stdout",
     "output_type": "stream",
     "text": [
      "DataFrame original:\n"
     ]
    },
    {
     "data": {
      "text/html": [
       "<div>\n",
       "<style scoped>\n",
       "    .dataframe tbody tr th:only-of-type {\n",
       "        vertical-align: middle;\n",
       "    }\n",
       "\n",
       "    .dataframe tbody tr th {\n",
       "        vertical-align: top;\n",
       "    }\n",
       "\n",
       "    .dataframe thead th {\n",
       "        text-align: right;\n",
       "    }\n",
       "</style>\n",
       "<table border=\"1\" class=\"dataframe\">\n",
       "  <thead>\n",
       "    <tr style=\"text-align: right;\">\n",
       "      <th></th>\n",
       "      <th>ID</th>\n",
       "      <th>Nome</th>\n",
       "      <th>Idade</th>\n",
       "      <th>Salario</th>\n",
       "      <th>Departamento</th>\n",
       "    </tr>\n",
       "  </thead>\n",
       "  <tbody>\n",
       "    <tr>\n",
       "      <th>0</th>\n",
       "      <td>1</td>\n",
       "      <td>Ana</td>\n",
       "      <td>28.0</td>\n",
       "      <td>5200.0</td>\n",
       "      <td>Financeiro</td>\n",
       "    </tr>\n",
       "    <tr>\n",
       "      <th>1</th>\n",
       "      <td>2</td>\n",
       "      <td>Bruno</td>\n",
       "      <td>35.0</td>\n",
       "      <td>4700.0</td>\n",
       "      <td>TI</td>\n",
       "    </tr>\n",
       "    <tr>\n",
       "      <th>2</th>\n",
       "      <td>3</td>\n",
       "      <td>Carlos</td>\n",
       "      <td>32.0</td>\n",
       "      <td>7500.0</td>\n",
       "      <td>Marketing</td>\n",
       "    </tr>\n",
       "    <tr>\n",
       "      <th>3</th>\n",
       "      <td>4</td>\n",
       "      <td>Diana</td>\n",
       "      <td>22.0</td>\n",
       "      <td>3900.0</td>\n",
       "      <td>TI</td>\n",
       "    </tr>\n",
       "    <tr>\n",
       "      <th>4</th>\n",
       "      <td>5</td>\n",
       "      <td>Eduardo</td>\n",
       "      <td>45.0</td>\n",
       "      <td>7800.0</td>\n",
       "      <td>Financeiro</td>\n",
       "    </tr>\n",
       "  </tbody>\n",
       "</table>\n",
       "</div>"
      ],
      "text/plain": [
       "  ID     Nome  Idade  Salario Departamento\n",
       "0  1      Ana   28.0   5200.0   Financeiro\n",
       "1  2    Bruno   35.0   4700.0           TI\n",
       "2  3   Carlos   32.0   7500.0    Marketing\n",
       "3  4    Diana   22.0   3900.0           TI\n",
       "4  5  Eduardo   45.0   7800.0   Financeiro"
      ]
     },
     "metadata": {},
     "output_type": "display_data"
    },
    {
     "name": "stdout",
     "output_type": "stream",
     "text": [
      "\n",
      "DataFrame codificado:\n"
     ]
    },
    {
     "data": {
      "text/html": [
       "<div>\n",
       "<style scoped>\n",
       "    .dataframe tbody tr th:only-of-type {\n",
       "        vertical-align: middle;\n",
       "    }\n",
       "\n",
       "    .dataframe tbody tr th {\n",
       "        vertical-align: top;\n",
       "    }\n",
       "\n",
       "    .dataframe thead th {\n",
       "        text-align: right;\n",
       "    }\n",
       "</style>\n",
       "<table border=\"1\" class=\"dataframe\">\n",
       "  <thead>\n",
       "    <tr style=\"text-align: right;\">\n",
       "      <th></th>\n",
       "      <th>ID</th>\n",
       "      <th>Nome</th>\n",
       "      <th>Idade</th>\n",
       "      <th>Salario</th>\n",
       "      <th>Departamento_Marketing</th>\n",
       "      <th>Departamento_TI</th>\n",
       "    </tr>\n",
       "  </thead>\n",
       "  <tbody>\n",
       "    <tr>\n",
       "      <th>0</th>\n",
       "      <td>1</td>\n",
       "      <td>Ana</td>\n",
       "      <td>28.0</td>\n",
       "      <td>5200.0</td>\n",
       "      <td>False</td>\n",
       "      <td>False</td>\n",
       "    </tr>\n",
       "    <tr>\n",
       "      <th>1</th>\n",
       "      <td>2</td>\n",
       "      <td>Bruno</td>\n",
       "      <td>35.0</td>\n",
       "      <td>4700.0</td>\n",
       "      <td>False</td>\n",
       "      <td>True</td>\n",
       "    </tr>\n",
       "    <tr>\n",
       "      <th>2</th>\n",
       "      <td>3</td>\n",
       "      <td>Carlos</td>\n",
       "      <td>32.0</td>\n",
       "      <td>7500.0</td>\n",
       "      <td>True</td>\n",
       "      <td>False</td>\n",
       "    </tr>\n",
       "    <tr>\n",
       "      <th>3</th>\n",
       "      <td>4</td>\n",
       "      <td>Diana</td>\n",
       "      <td>22.0</td>\n",
       "      <td>3900.0</td>\n",
       "      <td>False</td>\n",
       "      <td>True</td>\n",
       "    </tr>\n",
       "    <tr>\n",
       "      <th>4</th>\n",
       "      <td>5</td>\n",
       "      <td>Eduardo</td>\n",
       "      <td>45.0</td>\n",
       "      <td>7800.0</td>\n",
       "      <td>False</td>\n",
       "      <td>False</td>\n",
       "    </tr>\n",
       "  </tbody>\n",
       "</table>\n",
       "</div>"
      ],
      "text/plain": [
       "  ID     Nome  Idade  Salario  Departamento_Marketing  Departamento_TI\n",
       "0  1      Ana   28.0   5200.0                   False            False\n",
       "1  2    Bruno   35.0   4700.0                   False             True\n",
       "2  3   Carlos   32.0   7500.0                    True            False\n",
       "3  4    Diana   22.0   3900.0                   False             True\n",
       "4  5  Eduardo   45.0   7800.0                   False            False"
      ]
     },
     "metadata": {},
     "output_type": "display_data"
    }
   ],
   "source": [
    "print(\"DataFrame original:\")\n",
    "display(df.head())\n",
    "\n",
    "print(\"\\nDataFrame codificado:\")\n",
    "display(df_encoded.head())"
   ]
  },
  {
   "cell_type": "code",
   "execution_count": null,
   "id": "46282803-d3c3-493f-bd04-e04928eea95d",
   "metadata": {},
   "outputs": [],
   "source": []
  }
 ],
 "metadata": {
  "kernelspec": {
   "display_name": "Python [conda env:base] *",
   "language": "python",
   "name": "conda-base-py"
  },
  "language_info": {
   "codemirror_mode": {
    "name": "ipython",
    "version": 3
   },
   "file_extension": ".py",
   "mimetype": "text/x-python",
   "name": "python",
   "nbconvert_exporter": "python",
   "pygments_lexer": "ipython3",
   "version": "3.12.7"
  }
 },
 "nbformat": 4,
 "nbformat_minor": 5
}
